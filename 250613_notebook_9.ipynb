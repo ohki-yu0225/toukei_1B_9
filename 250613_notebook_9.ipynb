{
  "cells": [
    {
      "cell_type": "markdown",
      "metadata": {
        "id": "view-in-github",
        "colab_type": "text"
      },
      "source": [
        "<a href=\"https://colab.research.google.com/github/ohki-yu0225/toukei_1B_9/blob/main/250613_notebook_9.ipynb\" target=\"_parent\"><img src=\"https://colab.research.google.com/assets/colab-badge.svg\" alt=\"Open In Colab\"/></a>"
      ]
    },
    {
      "cell_type": "markdown",
      "metadata": {
        "id": "i-Lrddi2sEV9"
      },
      "source": [
        "# 統計学実習 IB 第 9 回"
      ]
    },
    {
      "cell_type": "markdown",
      "metadata": {
        "id": "49CBY50xsEWA"
      },
      "source": [
        "# Statistics Practice IB 9th"
      ]
    },
    {
      "cell_type": "code",
      "execution_count": null,
      "metadata": {
        "id": "nmO4QnKbsEWC"
      },
      "outputs": [],
      "source": [
        "# 'pandas', 'numpy', 'matplotlib.pyplot', 'japanize_matplotlib'をインポートする。\n",
        "# Import 'pandas', 'numpy', 'matplotlib.pyplot', and 'japanize_matplotlib'.\n",
        "!pip install japanize_matplotlib\n",
        "\n",
        "import pandas as pd\n",
        "import numpy as np\n",
        "import matplotlib.pyplot as plt\n",
        "import japanize_matplotlib"
      ]
    },
    {
      "cell_type": "markdown",
      "metadata": {
        "id": "Qdyt0H3HsEWJ"
      },
      "source": [
        "## 確率変数と確率分布"
      ]
    },
    {
      "cell_type": "markdown",
      "metadata": {
        "id": "9EUQGPA5sEWJ"
      },
      "source": [
        "## Stochastic Variables and Probability Distributions"
      ]
    },
    {
      "cell_type": "markdown",
      "metadata": {
        "id": "CPYcCQW2sEWJ"
      },
      "source": [
        "### ケース1"
      ]
    },
    {
      "cell_type": "markdown",
      "metadata": {
        "id": "GMs_YwBnsEWJ"
      },
      "source": [
        "### Case 1"
      ]
    },
    {
      "cell_type": "code",
      "execution_count": null,
      "metadata": {
        "id": "ty5gIqNQsEWJ"
      },
      "outputs": [],
      "source": [
        "# サイコロの目を1度振って出た目を確率変数として定義する\n",
        "# Define the roll of the dice as a random variable.\n",
        "prob = np.array([1 / 6, 1 / 6, 1 / 6, 1 / 6, 1 / 6, 1 / 6])\n",
        "dice = np.array([1, 2, 3, 4, 5, 6])\n",
        "cum_prob = np.cumsum(prob)\n",
        "df = pd.DataFrame()\n",
        "df[\"出目\"] = dice\n",
        "df[\"確率\"] = prob\n",
        "df[\"累積確率\"] = cum_prob\n",
        "print(df)"
      ]
    },
    {
      "cell_type": "code",
      "execution_count": null,
      "metadata": {
        "id": "qEyuTzFjsEWJ"
      },
      "outputs": [],
      "source": [
        "# 確率関数を図示する。\n",
        "# Illustrate the probability function.\n",
        "plt.plot(dice, prob, \"o\", color=\"b\")\n",
        "plt.vlines(dice, 0, prob, colors=\"b\")\n",
        "plt.ylabel(\"確率\")\n",
        "plt.xlabel(\"出目\")\n",
        "plt.ylim(0, )"
      ]
    },
    {
      "cell_type": "code",
      "execution_count": null,
      "metadata": {
        "id": "KXXTkB49sEWJ"
      },
      "outputs": [],
      "source": [
        "# 累積分布関数を図示する\n",
        "# # Illustrate the cumulative distribution function\n",
        "plt.plot(dice, cum_prob, \"o\", color=\"b\", markeredgecolor=\"b\")\n",
        "plt.plot(dice + 1, cum_prob, \"o\", color=\"none\", markeredgecolor=\"b\")\n",
        "plt.hlines(cum_prob, dice, dice + 1, \"b\")\n",
        "plt.xlim(1, 6.5)\n",
        "plt.ylim(0, 1.1)\n",
        "plt.ylabel(\"累積確率\")\n",
        "plt.xlabel(\"出目\")"
      ]
    },
    {
      "cell_type": "code",
      "execution_count": null,
      "metadata": {
        "id": "ASNGzSSCsEWK"
      },
      "outputs": [],
      "source": [
        "# 期待値を計算する\n",
        "# Calculate expected value.\n",
        "E_x = sum(prob * dice)\n",
        "print(f\"確率変数の期待値：{E_x}\")"
      ]
    },
    {
      "cell_type": "code",
      "execution_count": null,
      "metadata": {
        "id": "PaJCOg-tsEWK"
      },
      "outputs": [],
      "source": [
        "# 分散を計算する\n",
        "# Calculate variance.\n",
        "V_x = sum((dice - E_x) ** 2 * prob)\n",
        "print(f\"確率変数の分散：{V_x}\")"
      ]
    },
    {
      "cell_type": "code",
      "execution_count": null,
      "metadata": {
        "id": "pxXFQDjVsEWK"
      },
      "outputs": [],
      "source": [
        "# 練習1 サイコロを1回振る試行を10000回行った結果を出力する。\n",
        "# Exercise 1 Output the result of 10000 trials of one roll of the dice.\n"
      ]
    },
    {
      "cell_type": "code",
      "execution_count": null,
      "metadata": {
        "id": "n9Qx7PYIsEWK"
      },
      "outputs": [],
      "source": [
        "# 練習2 サイコロの出目の度数分布表を作成する。度数分布表には相対度数を加える。\n",
        "# Exercise 2 Create a frequency distribution table of the dice rolls. Add relative frequencies to the frequency distribution table.\n"
      ]
    },
    {
      "cell_type": "code",
      "execution_count": null,
      "metadata": {
        "id": "BzawguYqsEWL"
      },
      "outputs": [],
      "source": [
        "# 練習3 サイコロの出目の相対度数のヒストグラムを図示し、数学的確率と比較する。\n",
        "# ヒストグラムは相対度数で作成する。\n",
        "# Exercise 3 Illustrate a histogram of the relative frequencies of the dice rolls and compare them to the mathematical probabilities.\n",
        "# Histograms should be made in relative frequencies.\n",
        "\n",
        "\n",
        "# 以下は変更しなくてよい\n",
        "plt.plot(dice, prob, \"o\", color=\"b\")\n",
        "plt.vlines(dice, 0, prob, colors=\"b\")\n",
        "plt.ylabel(\"確率（相対度数）\")\n",
        "plt.xlabel(\"出目\")"
      ]
    },
    {
      "cell_type": "code",
      "execution_count": null,
      "metadata": {
        "id": "UJV54ll2sEWL"
      },
      "outputs": [],
      "source": [
        "# 練習4 サイコロの目を1度振り、1から3の場合は100点、4から5の場合は200点、6の場合は300点が与えられる場合の得点を確率変数として定義する\n",
        "# Exercise 12 Define the probability variable as the score for a single roll of the dice, giving 300 points for 1 to 3, 200 points for 4 to 5, and 300 points for 6.\n"
      ]
    },
    {
      "cell_type": "code",
      "execution_count": null,
      "metadata": {
        "id": "JII9N4c7sEWL"
      },
      "outputs": [],
      "source": [
        "# 練習5 確率関数を図示する\n",
        "# Exercise 5 Illustrate the probability function.\n"
      ]
    },
    {
      "cell_type": "code",
      "execution_count": null,
      "metadata": {
        "id": "XqtcKEMUsEWL"
      },
      "outputs": [],
      "source": [
        "# 練習6 累積分布関数を図示する\n",
        "# Exercise 6 Illustrate the cumulative distribution function.\n"
      ]
    },
    {
      "cell_type": "code",
      "execution_count": null,
      "metadata": {
        "id": "u38-jdt4sEWL"
      },
      "outputs": [],
      "source": [
        "# 練習7 期待値を計算する\n",
        "# Exercise 15: Calculate expected values.\n"
      ]
    },
    {
      "cell_type": "code",
      "execution_count": null,
      "metadata": {
        "id": "lxj48t_esEWL"
      },
      "outputs": [],
      "source": [
        "# 練習8 分散を計算する\n",
        "# Exercise 16 Calculate variance.\n"
      ]
    }
  ],
  "metadata": {
    "kernelspec": {
      "display_name": "Python 3 (ipykernel)",
      "language": "python",
      "name": "python3"
    },
    "language_info": {
      "codemirror_mode": {
        "name": "ipython",
        "version": 3
      },
      "file_extension": ".py",
      "mimetype": "text/x-python",
      "name": "python",
      "nbconvert_exporter": "python",
      "pygments_lexer": "ipython3",
      "version": "3.1.-1"
    },
    "colab": {
      "provenance": [],
      "include_colab_link": true
    }
  },
  "nbformat": 4,
  "nbformat_minor": 0
}